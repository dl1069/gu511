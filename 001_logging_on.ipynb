{
 "cells": [
  {
   "cell_type": "markdown",
   "metadata": {
    "slideshow": {
     "slide_type": "skip"
    }
   },
   "source": [
    "[![Open In Colab](https://colab.research.google.com/assets/colab-badge.svg)](https://colab.research.google.com/github/rzl-ds/gu511/blob/master/001_logging_on.ipynb)"
   ]
  },
  {
   "cell_type": "markdown",
   "metadata": {
    "slideshow": {
     "slide_type": "slide"
    }
   },
   "source": [
    "# lecture 1: \"logging on\""
   ]
  },
  {
   "cell_type": "markdown",
   "metadata": {
    "slideshow": {
     "slide_type": "subslide"
    }
   },
   "source": [
    "## outline\n",
    "\n",
    "1. Your Computer\n",
    "2. Moving to the Cloud\n",
    "3. Logging in\n",
    "4. `sudo shutdown now`"
   ]
  },
  {
   "cell_type": "markdown",
   "metadata": {
    "slideshow": {
     "slide_type": "slide"
    }
   },
   "source": [
    "# your computer"
   ]
  },
  {
   "cell_type": "markdown",
   "metadata": {
    "slideshow": {
     "slide_type": "fragment"
    }
   },
   "source": [
    "what do you know about your computer?"
   ]
  },
  {
   "cell_type": "markdown",
   "metadata": {
    "slideshow": {
     "slide_type": "fragment"
    }
   },
   "source": [
    "better question: what do you *need* to know about your computer?"
   ]
  },
  {
   "cell_type": "markdown",
   "metadata": {
    "slideshow": {
     "slide_type": "subslide"
    }
   },
   "source": [
    "here are some important questions:\n",
    "\n",
    "+ What is the Operating System (OS)?\n",
    "    + Microsoft (MS)\n",
    "    + Mac (OS)\n",
    "    + Linux (\\*nix)"
   ]
  },
  {
   "cell_type": "markdown",
   "metadata": {
    "slideshow": {
     "slide_type": "fragment"
    }
   },
   "source": [
    "+ what can you do on it?\n",
    "+ what can't you do on it?\n",
    "+ how do you know?"
   ]
  },
  {
   "cell_type": "markdown",
   "metadata": {
    "slideshow": {
     "slide_type": "slide"
    }
   },
   "source": [
    "## your computer's capabilities\n",
    "\n",
    "An example.\n",
    "\n",
    "In the now-ancient version 3.6, python introduced a cool new feature: [f-strings](https://www.python.org/dev/peps/pep-0498/). if you put an `f` in front of string, you can include currently defined variables in strings like `f'hello {name}'` and python will fill in the value of `name` into that string (interpolation). This means that you can do the following:"
   ]
  },
  {
   "cell_type": "code",
   "execution_count": 1,
   "metadata": {
    "slideshow": {
     "slide_type": "-"
    }
   },
   "outputs": [
    {
     "ename": "SyntaxError",
     "evalue": "invalid syntax (<ipython-input-1-ca3aee040f35>, line 3)",
     "output_type": "error",
     "traceback": [
      "\u001B[0;36m  File \u001B[0;32m\"<ipython-input-1-ca3aee040f35>\"\u001B[0;36m, line \u001B[0;32m3\u001B[0m\n\u001B[0;31m    f'hello {name}'\u001B[0m\n\u001B[0m                  ^\u001B[0m\n\u001B[0;31mSyntaxError\u001B[0m\u001B[0;31m:\u001B[0m invalid syntax\n"
     ]
    }
   ],
   "source": [
    "name = 'Caitlin'\n",
    "\n",
    "f'hello {name}'"
   ]
  },
  {
   "cell_type": "markdown",
   "metadata": {
    "slideshow": {
     "slide_type": "subslide"
    }
   },
   "source": [
    "wat.\n",
    "\n",
    "this is the most important advancement in modern science. I **must** have it."
   ]
  },
  {
   "cell_type": "markdown",
   "metadata": {
    "slideshow": {
     "slide_type": "subslide"
    }
   },
   "source": [
    "right now, on your computer:"
   ]
  },
  {
   "cell_type": "markdown",
   "metadata": {
    "slideshow": {
     "slide_type": "fragment"
    }
   },
   "source": [
    "+ who has python?"
   ]
  },
  {
   "cell_type": "markdown",
   "metadata": {
    "slideshow": {
     "slide_type": "fragment"
    }
   },
   "source": [
    "+ who knows which version of python they have?"
   ]
  },
  {
   "cell_type": "markdown",
   "metadata": {
    "slideshow": {
     "slide_type": "fragment"
    }
   },
   "source": [
    "+ who has python 3 or above?"
   ]
  },
  {
   "cell_type": "markdown",
   "metadata": {
    "slideshow": {
     "slide_type": "fragment"
    }
   },
   "source": [
    "+ who has numpy?"
   ]
  },
  {
   "cell_type": "markdown",
   "metadata": {
    "slideshow": {
     "slide_type": "fragment"
    }
   },
   "source": [
    "+ who has python 3.5?"
   ]
  },
  {
   "cell_type": "markdown",
   "metadata": {
    "slideshow": {
     "slide_type": "fragment"
    }
   },
   "source": [
    "+ if you don't have any of the above, do you know if you can tweak your laptop until you do?"
   ]
  },
  {
   "cell_type": "markdown",
   "metadata": {
    "slideshow": {
     "slide_type": "fragment"
    }
   },
   "source": [
    "+ how does this change when it's not *your* laptop, but *some one else's* desktop?"
   ]
  },
  {
   "cell_type": "markdown",
   "metadata": {
    "slideshow": {
     "slide_type": "subslide"
    }
   },
   "source": [
    "To put it another way, your physical laptop may have limitations that prevent you from doing everything you might want to do.\n",
    "\n",
    "Actually, your laptop could have a *ton* of limitations:\n",
    "\n",
    "+ things you could change, but would require spending time and money\n",
    "    + only one set of hardware and software\n",
    "    + fixed disk space\n",
    "    + fixed memory\n",
    "    + hardware soon to be obsolete"
   ]
  },
  {
   "cell_type": "markdown",
   "metadata": {
    "slideshow": {
     "slide_type": "subslide"
    }
   },
   "source": [
    "+ \"company\" inefficiencies\n",
    "    + you don't use every bit of resource every second (wasted money!)\n",
    "    + sysad needs to install and patch software and configure every desktop\n",
    "    + sysad needs to monitor entire network\n",
    "    + you need to wait for the sysad's time\n",
    "    + if you've ever worked with IT anywhere, you know what I'm talking about"
   ]
  },
  {
   "cell_type": "markdown",
   "metadata": {
    "slideshow": {
     "slide_type": "subslide"
    }
   },
   "source": [
    "+ security\n",
    "    + you are in charge of security (it's hard and you're probably not great at it)\n",
    "    + each laptop or desktop is a new potential point of failure"
   ]
  },
  {
   "cell_type": "markdown",
   "metadata": {
    "slideshow": {
     "slide_type": "slide"
    }
   },
   "source": [
    "let's expand our proverbial horizons by going to..."
   ]
  },
  {
   "cell_type": "markdown",
   "metadata": {
    "slideshow": {
     "slide_type": "fragment"
    }
   },
   "source": [
    "**<div align=\"center\">the cloud</div>**\n",
    "<div align=\"center\"><img src=\"http://drive.google.com/uc?export=view&id=0ByQ4VmO-MwEES194YjB0Q2dBb00\"></div>"
   ]
  },
  {
   "cell_type": "markdown",
   "metadata": {
    "slideshow": {
     "slide_type": "subslide"
    }
   },
   "source": [
    "**<div align=\"center\">also the cloud</div>**\n",
    "<div align=\"center\"><img align=\"center\" src=\"http://drive.google.com/uc?export=view&id=0ByQ4VmO-MwEETU0yNTFycHpzM3M\"></div>"
   ]
  },
  {
   "cell_type": "markdown",
   "metadata": {
    "slideshow": {
     "slide_type": "subslide"
    }
   },
   "source": [
    "\"the cloud\" is a fancy way of saying: let's make those problems some one else's problems. Amazon, Windows, and Google are all more than happy to solve some of those problems for you -- at a price.\n",
    "\n",
    "<br><div align=\"center\">**Over the remainder of the course we will utilize cloud computing as a tool to solve such problems**</div><br>\n",
    "\n",
    "While we do, though, I urge you to ask yourself: how would I do this with just my laptop? Is that possible? Is that actually more reasonable? Sometimes cloud computing is a lifesaver, but sometimes it is a shotgun when all we need is a flyswatter."
   ]
  },
  {
   "cell_type": "markdown",
   "metadata": {
    "slideshow": {
     "slide_type": "slide"
    }
   },
   "source": [
    "# our first cloud server"
   ]
  },
  {
   "cell_type": "markdown",
   "metadata": {
    "slideshow": {
     "slide_type": "subslide"
    }
   },
   "source": [
    "Let's create a cloud server. There are several good options for doing this, but the primary three (in order of popularity) are\n",
    "\n",
    "1. [Amazon Web Services (AWS)](https://aws.amazon.com/)\n",
    "2. [Microsoft Azure](https://azure.microsoft.com/en-us/?v=17.14)\n",
    "3. [Google Cloud](https://cloud.google.com/)\n",
    "\n",
    "There is a whole meta-industry of third parties which will manage your ecosystem in these clouds for you (e.g. Hortonworks/Cloudera, Rackspace, databricks) because managing these services is *still hard*.\n",
    "\n",
    "We will go with AWS for two reasons:\n",
    "\n",
    "1. it's very common\n",
    "2. they bribed us"
   ]
  },
  {
   "cell_type": "markdown",
   "metadata": {
    "slideshow": {
     "slide_type": "subslide"
    }
   },
   "source": [
    "## create an aws account"
   ]
  },
  {
   "cell_type": "markdown",
   "metadata": {
    "slideshow": {
     "slide_type": "subslide"
    }
   },
   "source": [
    "**<div align=\"center\">aws account creation exercise</div>**\n",
    "**<div align=\"center\"><a href=\"https://aws.amazon.com/free/\">https://aws.amazon.com/free/</a></div>**\n",
    "\n",
    "+ the account **needs** to be associated with your georgetown.edu email address\n",
    "+ if you already have an account for your georgetown.edu email address, feel free to jump ahead\n",
    "+ otherwise, see the walkthrough\n",
    "    + if you are creating an AWS account for the first time, use your georgetown.edu email address\n",
    "    + walkthrough steps on the next slide(s)"
   ]
  },
  {
   "cell_type": "markdown",
   "metadata": {
    "slideshow": {
     "slide_type": "subslide"
    }
   },
   "source": [
    "1. go to [the free tier account creation page](https://aws.amazon.com/free/) and click \"create account\"\n",
    "1. Creat an AWS account screen\n",
    "    1. **use your georgetown.edu email address**\n",
    "    1. fill in the details and add a new password (remember it!!)\n",
    "    1. suggestion: use your `guid` as your account name\n",
    "1. Contact Information screen\n",
    "    1. switch to \"Personal Account\"\n",
    "    1. fill it all out (every field is required)\n",
    "        1. your phone number needs to be legit BUT\n",
    "        1. GU address is `3700 O St NW, Washington DC 20057`"
   ]
  },
  {
   "cell_type": "markdown",
   "metadata": {
    "slideshow": {
     "slide_type": "subslide"
    }
   },
   "source": [
    "*I can no longer see beyond this step because I have an account, but the rest of the flow should be similar to this*\n",
    "\n",
    "+ payment information\n",
    "    + you *must* use real credit card\n",
    "        + we will not spend enough in this class that you will be charged, but know that it is not impossible.\n",
    "    + if you cannot do this please talk to me\n",
    "+ identity verification\n",
    "    + in the past, AWS has called students' phones immediately. real enter the matrix stuff.\n",
    "+ support plan\n",
    "    + if offered, leave it at \"Basic\" and click the \"Continue\" button\n",
    "+ signing in\n",
    "    + enter your email address\n",
    "    + on the next screen, enter your password"
   ]
  },
  {
   "cell_type": "markdown",
   "metadata": {
    "slideshow": {
     "slide_type": "subslide"
    }
   },
   "source": [
    "**<div align=\"center\">PAUSE FOR EXERCISE BREAK</div>**"
   ]
  },
  {
   "cell_type": "markdown",
   "metadata": {
    "slideshow": {
     "slide_type": "slide"
    }
   },
   "source": [
    "All right! do you have an account? are you on [the main dashboard of your `aws` console](https://console.aws.amazon.com/console/home?region=us-east-1)? if not, zoom me!\n",
    "\n",
    "head on over to [your account page](https://console.aws.amazon.com/billing/home?#/account) (on the top banner, click the dropdown next to your name and select \"My Account\").\n",
    "\n",
    "copy the Account ID somewhere -- we will use it in the coming exercise."
   ]
  },
  {
   "cell_type": "markdown",
   "metadata": {
    "slideshow": {
     "slide_type": "subslide"
    }
   },
   "source": [
    "## create an aws educate account\n",
    "\n",
    "[AWS Educate](https://aws.amazon.com/education/awseducate/) is a program run by AWS which offers (you guessed it) educational materials for aspiring cloud engineers and data scientists just such as yourself.\n",
    "\n",
    "There is a lot of cool stuff for you to check out here, but probably the coolest is 100 USD in cold hard ~~cash~~ credits for AWS."
   ]
  },
  {
   "cell_type": "markdown",
   "metadata": {
    "slideshow": {
     "slide_type": "subslide"
    }
   },
   "source": [
    "let's set up an account with AWS Educate!\n",
    "\n",
    "*general note: with AWS educate you will receive the option to create use an `AWS Account` or an `AWS Educate Starter Account`. we want to use an `AWS Account`, **not** an `AWS Educate Starter Account`. the second type is a special limited version of an AWS account run by a company called `Vocareum`. if you find yourself on their site, you've gone the wrong way!*\n",
    "\n",
    "1. browse to https://www.awseducate.com/registration and select Student\n",
    "1. fill out the form there, but again, make sure that you **use your georgetown.edu email address**\n",
    "1. sign a contract you definitely don't read\n",
    "1. check your email to verify your account and log in"
   ]
  },
  {
   "cell_type": "markdown",
   "metadata": {
    "slideshow": {
     "slide_type": "subslide"
    }
   },
   "source": [
    "*again, I can no longer see beyond this step because I am not a student, so the remaining steps should be as follows:*\n",
    "\n",
    "+ after setting a password, you should receive the `AWS Account` vs. `AWS Educate Starter Account` option. choose `AWS Account`. You may need your aws account ID from your \"My Account\" page up above!\n",
    "+ after finishing your account creation, the top menu bar on https://www.awseducate.com/student/s/awssite should contain a tab like `AWS Account`. click on that tab\n",
    "+ enter any information requested here and request your promotional code (\"Show my AWS Promotional Credit\")\n",
    "+ copy that promotional credit information! we will use it below"
   ]
  },
  {
   "cell_type": "markdown",
   "metadata": {
    "slideshow": {
     "slide_type": "subslide"
    }
   },
   "source": [
    "your application *may* not be approved at first -- this has happened to students in this class. follow the instructions in your denial email and let me know it's happening.\n",
    "\n",
    "we have always been able to work this out with AWS in the past and I am confident we will be able to get you set up.\n",
    "\n",
    "what is more, the first several lectures will rely entirely on free services *anyway*, so the promo isn't needed right this minute"
   ]
  },
  {
   "cell_type": "markdown",
   "metadata": {
    "slideshow": {
     "slide_type": "subslide"
    }
   },
   "source": [
    "**<div align=\"center\">PAUSE FOR EXERCISE BREAK</div>**"
   ]
  },
  {
   "cell_type": "markdown",
   "metadata": {
    "slideshow": {
     "slide_type": "subslide"
    }
   },
   "source": [
    "### get paid (in the future)\n",
    "\n",
    "if you navigated the AWS Educate application, you have a promo code which is just some jubmle of letters.\n",
    "\n",
    "you add these credits on [the Billing Dashboard > Credits page](https://console.aws.amazon.com/billing/home#/credits)"
   ]
  },
  {
   "cell_type": "markdown",
   "metadata": {
    "slideshow": {
     "slide_type": "subslide"
    }
   },
   "source": [
    "note: we just did two different things:\n",
    "\n",
    "1. we created an AWS account\n",
    "2. we applied for an AWS educate account (not available to the general public)\n",
    "\n",
    "the AWS account will live on past your time here at Georgetown if you would like it to.\n",
    "\n",
    "As for AWS educate, this is effectively a credit system -- you sign up with a `.edu` email address and they give you a cold \\$100 in `aws` credit every year. you can renew this account (and the \\$100 student credits that come with it) every year in May for as long as your `edu` address is still valid -- pretty neat."
   ]
  },
  {
   "cell_type": "markdown",
   "metadata": {
    "slideshow": {
     "slide_type": "slide"
    }
   },
   "source": [
    "## navigating the aws console"
   ]
  },
  {
   "cell_type": "markdown",
   "metadata": {
    "slideshow": {
     "slide_type": "subslide"
    }
   },
   "source": [
    "Navigate to [the console](https://console.aws.amazon.com/console/home) and investigate the items in the menu banner at the top\n",
    "\n",
    "+ aws \"home\" button\n",
    "+ services drop-down\n",
    "    + allows you to access each aws service from *any* window (not just home)\n",
    "+ resource groups drop-down\n",
    "    + a dropdown that allows you to select groups of all services which share tags\n",
    "+ pinned items\n",
    "    + add frequently used services to the banner for one-click access"
   ]
  },
  {
   "cell_type": "markdown",
   "metadata": {
    "slideshow": {
     "slide_type": "subslide"
    }
   },
   "source": [
    "+ notifications\n",
    "    + if you set up billing or performance monitoring notifications they will appear here\n",
    "+ account info\n",
    "    + general account info, useful for quick access to billing and organizational information\n",
    "+ region\n",
    "    + allows you to isolate services based on their availability region where meaningful\n",
    "+ support"
   ]
  },
  {
   "cell_type": "markdown",
   "metadata": {
    "slideshow": {
     "slide_type": "slide"
    }
   },
   "source": [
    "## security bare minimum"
   ]
  },
  {
   "cell_type": "markdown",
   "metadata": {
    "slideshow": {
     "slide_type": "fragment"
    }
   },
   "source": [
    "Let's apply a modicum of security and common sense to our aws account. Fortunately, AWS has already put together a handy checklist on our [`iam` (Identity and Access Management) dashboard](https://console.aws.amazon.com/iam/home?region=us-east-1#/home).\n",
    "\n",
    "<div align=\"center\"><img src=\"http://drive.google.com/uc?export=view&id=0ByQ4VmO-MwEEVXNLdGhHbnpGODQ\"></div>"
   ]
  },
  {
   "cell_type": "markdown",
   "metadata": {
    "slideshow": {
     "slide_type": "subslide"
    }
   },
   "source": [
    "***WARNING***: we are about to dive head-first into the `aws iam` (`i`dentity and `a`ccess `m`anagement) service, one of the most important and generally confusing features.\n",
    "\n",
    "this is the only time in this course I suggest that you \"just click buttons\". in several lectures we will explain what exactly we're doing, but right now our goal is just to implement some account security best practices.\n",
    "\n",
    "do ask questions if you're confused!"
   ]
  },
  {
   "cell_type": "markdown",
   "metadata": {
    "slideshow": {
     "slide_type": "subslide"
    }
   },
   "source": [
    "Start by signing in and navigating to [the IAM service](https://console.aws.amazon.com/iam/home) in your `aws` console:\n",
    "\n",
    "<br><div align=\"center\"><img src=\"http://drive.google.com/uc?export=view&id=0ByQ4VmO-MwEEUkdWdUNLMG1EV3c\"></div>"
   ]
  },
  {
   "cell_type": "markdown",
   "metadata": {
    "slideshow": {
     "slide_type": "subslide"
    }
   },
   "source": [
    "We should be presented with a five-item \"security status\" checklist. Let's lock this bad boy down before we go do our top secret homework projects."
   ]
  },
  {
   "cell_type": "markdown",
   "metadata": {
    "slideshow": {
     "slide_type": "subslide"
    }
   },
   "source": [
    "The first two items are the most important: set up MFA on your root account and create an individual IAM user.\n",
    "\n",
    "but what does that mean?"
   ]
  },
  {
   "cell_type": "markdown",
   "metadata": {
    "slideshow": {
     "slide_type": "fragment"
    }
   },
   "source": [
    "Multi-Factor Authentication (MFA) is the coupling of a physical authentication method (e.g. a cell phone or a USB stick) with a password-based authentication method. any time you try to log in to your account, you will have be required to interact with a *physical* item to verify that it's really you logging in\n",
    "\n",
    "every one of you is doing this at this point (via Duo for your GU accounts).\n",
    "\n",
    "**USE MFA**!!! all the time!"
   ]
  },
  {
   "cell_type": "markdown",
   "metadata": {
    "slideshow": {
     "slide_type": "subslide"
    }
   },
   "source": [
    "the second piece of security advice we will try to implement right away is to create a personal `iam` user account separate from our `root` account we received when we signed up\n",
    "\n",
    "think of the `root` and `iam` user accounts like two different account options on the login screen on a shared windows or mac computer\n",
    "\n",
    "+ you have an ADMIN account for important and dangerous administrative stuff, and\n",
    "+ different personal user accounts for different users"
   ]
  },
  {
   "cell_type": "markdown",
   "metadata": {
    "slideshow": {
     "slide_type": "subslide"
    }
   },
   "source": [
    "I've seen `aws` officials advocate changing the root password to a random string not even *you* know, and never logging in again. I'm not advocating that, but smarter people are, so choose who to listen to.\n",
    "\n",
    "For now, though, let's do the following:\n",
    "\n",
    "1. configure our root account to use MFA\n",
    "1. create a non-root user account with some elevated privileges\n",
    "1. configure our non-root user admin account to use MFA"
   ]
  },
  {
   "cell_type": "markdown",
   "metadata": {
    "slideshow": {
     "slide_type": "subslide"
    }
   },
   "source": [
    "**<div align=\"center\">mfa and non-root user account creation exercise</div>**\n",
    "**<div align=\"center\">https://console.aws.amazon.com/iam/home#/home</div>**\n",
    "\n",
    "+ install an MFA app\n",
    "    + you all already have `Duo`\n",
    "    + Google Authenticator ([Android link](https://play.google.com/store/apps/details?id=com.google.android.apps.authenticator2&hl=en), [iPhone link](https://itunes.apple.com/us/app/google-authenticator/id388497605?mt=8)) is very common\n",
    "    + [`authy`](https://authy.com/) if you're feeling spicy\n",
    "+ go to the [`iam` console page](https://console.aws.amazon.com/iam/home?region=us-east-1#/home)\n",
    "+ \"Activate MFA on your root account\"\n",
    "    + click the dropdown menu item and then the \"Manage MFA\" button\n",
    "    + go with a \"virtual\" MFA device\n",
    "    + in your app, figure out how to add a new authentication account via QR code (usually: click the `+` sign) and scan the QR code\n",
    "    + enter as many as *two* consecutive authentication codes\n",
    "    + you should see a \"successfully added\" dialog"
   ]
  },
  {
   "cell_type": "markdown",
   "metadata": {
    "slideshow": {
     "slide_type": "subslide"
    }
   },
   "source": [
    "**<div align=\"center\">PAUSE FOR EXERCISE BREAK</div>**"
   ]
  },
  {
   "cell_type": "markdown",
   "metadata": {
    "slideshow": {
     "slide_type": "subslide"
    }
   },
   "source": [
    "**<div align=\"center\">create a non-root user account</div>**\n",
    "**<div align=\"center\">https://console.aws.amazon.com/iam/home#/home</div>**\n",
    "\n",
    "+ back on the [`iam` dashboard](https://console.aws.amazon.com/iam/home?region=us-east-1#/home), click \"Create individual IAM users\" and then the \"Manage Users\" button and then \"Add user\"\n",
    "+ add user page:\n",
    "    + select any user name you want\n",
    "    + give yourself **both** Programmatic access and aws management console access\n",
    "    + select a custom password (for yourself -- obviously, remember this)\n",
    "    + uncheck \"Require password reset\" (you just set it!)\n",
    "    + click \"Next: Permissions\"\n",
    "+ permissions page\n",
    "    + add users to group: click \"Create group\"\n",
    "        + name the group `admin`\n",
    "        + search for and check the box for the \"AdministratorAccess\" policy\n",
    "        + click next and create the group\n",
    "+ review page\n",
    "    + click \"Create users\"\n",
    "+ complete page\n",
    "    + **download the csv of users access keys and passwords!**\n",
    "    + we will use this file in future lectures. save it in a special place you won't lose it!"
   ]
  },
  {
   "cell_type": "markdown",
   "metadata": {
    "slideshow": {
     "slide_type": "subslide"
    }
   },
   "source": [
    "**<div align=\"center\">PAUSE FOR EXERCISE BREAK</div>**"
   ]
  },
  {
   "cell_type": "markdown",
   "metadata": {
    "slideshow": {
     "slide_type": "subslide"
    }
   },
   "source": [
    "**<div align=\"center\">really awful billing permission hack that sucks but now is the best time to do it</div>**\n",
    "**<div align=\"center\">https://console.aws.amazon.com/iam/home#/home</div>**\n",
    "\n",
    "+ quick diversion because it's super annoying if we don't: [set up billing groups with permissions so you can give your new user billing dashboard privileges](https://docs.aws.amazon.com/IAM/latest/UserGuide/tutorial_billing.html?icmpid=docs_iam_console#tutorial-billing-step1)\n",
    "    + give user and role access to billing info\n",
    "        + navigate to [your root account page](https://console.aws.amazon.com/billing/home?#/account) (upper menu, click on your name, select \"My Account\")\n",
    "        + in \"IAM User and Role Access to Billing Information\" section, click \"Edit\"\n",
    "        + click the \"Activate IAM Access\" box\n",
    "        + click \"Update\" button\n",
    "    + create \"billing admin\" permission policies\n",
    "        + go to [the `iam` console](https://console.aws.amazon.com/iam/home?region=us-east-1#/home)\n",
    "        + click on \"Policies\" in the left menu\n",
    "        + click on \"Create Policies\"\n",
    "        + On \"Create policy\" page\n",
    "            + change Service to **Billing**\n",
    "            + under Actions, check the \"All Billing actions\" box\n",
    "            + click \"Review Policy\"\n",
    "        + review page\n",
    "            + name it something fancy, like \"billing_admin\" or \"[your initials]\\_billing\"\n",
    "            + description...?\n",
    "            + click \"Create Policy\"\n",
    "    + give \"billing admin\" policy to your \"admin\" group\n",
    "        + go to [the `iam` groups dashboard](https://console.aws.amazon.com/iam/home?region=us-east-1#/groups) (on any `iam` page, click \"groups\" in the left panel)\n",
    "        + select the admin group you created in the previous step\n",
    "        + click \"Attach Policy\"\n",
    "        + search for the name you just used (e.g. \"billing_admin\")\n",
    "        + click that policy and click \"Attach Policy\" button\n"
   ]
  },
  {
   "cell_type": "markdown",
   "metadata": {
    "slideshow": {
     "slide_type": "subslide"
    }
   },
   "source": [
    "**<div align=\"center\">PAUSE FOR EXERCISE BREAK</div>**"
   ]
  },
  {
   "cell_type": "markdown",
   "metadata": {
    "slideshow": {
     "slide_type": "subslide"
    }
   },
   "source": [
    "**<div align=\"center\">last root account tweaks</div>**\n",
    "**<div align=\"center\">https://console.aws.amazon.com/iam/home#/home</div>**\n",
    "\n",
    "+ add an account alias / change the `iam` sign-in link\n",
    "    + go back to [the `iam` console](https://console.aws.amazon.com/iam/home?region=us-east-1#/home)\n",
    "    + the top section reads \"IAM users sign-in link\"\n",
    "    + click on the \"customize\" link\n",
    "    + change this value to whatever you want (recommend again: your guid)\n",
    "    + copy this url whether you change it or not\n",
    "+ sign out or root **forever**\n",
    "    + click on your name dropdown in the upper menu\n",
    "    + \"Sign out\"\n",
    "\n",
    "<div align=\"center\"><img align=\"middle\" src=\"https://drive.google.com/uc?export=view&id=1S7lR3tm6t3MsUsA9fAv17SZC-Tmv9LXv\"></div>"
   ]
  },
  {
   "cell_type": "markdown",
   "metadata": {
    "slideshow": {
     "slide_type": "subslide"
    }
   },
   "source": [
    "**<div align=\"center\">PAUSE FOR EXERCISE BREAK</div>**"
   ]
  },
  {
   "cell_type": "markdown",
   "metadata": {
    "slideshow": {
     "slide_type": "subslide"
    }
   },
   "source": [
    "**<div align=\"center\">sign in as `user`</div>**\n",
    "**<div align=\"center\">https://console.aws.amazon.com/iam/home#/home</div>**\n",
    "\n",
    "+ sign back in as a single user\n",
    "    + navigate to your IAM users sign-in link (that url you copied above)\n",
    "    + sign in (use the `iam` user name and password you just set)\n",
    "+ add MFA to your *new* account (not just your root account)\n",
    "    + go back to [the `iam` console users page](https://console.aws.amazon.com/iam/home?region=us-east-1#/users)\n",
    "    + click on your user name\n",
    "    + click on the \"Security credentials\" tab\n",
    "    + click on edit pencil following \"Assigned MFA device\"\n",
    "    + go with a \"virtual\" MFA device\n",
    "    + in your app (Duo, GA, Authy, etc), figure out how to add a new authentication account via QR code and scan the QR code\n",
    "    + enter *two* consecutive authentication codes\n",
    "    + you should see a \"successfully added\" dialog\n",
    "+ password policy\n",
    "    + click on \"Apply an IAM password Policy\" and then the \"Manage Password Policy\" button\n",
    "    + click \"Apply password policy\""
   ]
  },
  {
   "cell_type": "markdown",
   "metadata": {
    "slideshow": {
     "slide_type": "subslide"
    }
   },
   "source": [
    "**<div align=\"center\">whew</div>**\n",
    "\n",
    "<div align=\"center\">easy as pie! clear as crystal! right?</div>\n",
    "\n",
    "**<div align=\"center\">PAUSE FOR ZOOM QUESTION BREAK</div>**"
   ]
  },
  {
   "cell_type": "markdown",
   "metadata": {
    "slideshow": {
     "slide_type": "slide"
    }
   },
   "source": [
    "# reviewing login process"
   ]
  },
  {
   "cell_type": "markdown",
   "metadata": {
    "slideshow": {
     "slide_type": "subslide"
    }
   },
   "source": [
    "let's be pedantic about this, because it has proven tricky in the past\n",
    "\n",
    "there are two types of accounts which can sign in:\n",
    "\n",
    "1. `root`\n",
    "2. `iam` user\n",
    "\n",
    "we just created a `root` user by opening an account, and then created a special `iam` user that will be our go-to way of logging in in the future.\n",
    "\n",
    "best practice is to reserve the `root` user for only the most essential tasks, and handle all general administrative items via the `iam` user we created in lesson 1."
   ]
  },
  {
   "cell_type": "markdown",
   "metadata": {
    "slideshow": {
     "slide_type": "subslide"
    }
   },
   "source": [
    "however, after you've signed in one time, your browser will likely push you toward the login method you most recently used to sign in, so it's important to know how to\n",
    "\n",
    "1. spot the differences, and\n",
    "1. get from one version to the other (`root --> iam` and `iam --> root`)\n",
    "\n",
    "there are three screen you might see..."
   ]
  },
  {
   "cell_type": "markdown",
   "metadata": {
    "slideshow": {
     "slide_type": "subslide"
    }
   },
   "source": [
    "## the general log-in screen\n",
    "\n",
    "these two types of account have similar but *slightly* different ways of logging in. the first time you go to log in, you will be given this great looking pair of choices:\n",
    "\n",
    "<div align=\"center\"><img align=\"middle\" src=\"https://drive.google.com/uc?export=view&id=1hpQzrEgZ5J2wA329LOv1zskPdnQaHPNh\"></div>"
   ]
  },
  {
   "cell_type": "markdown",
   "metadata": {
    "slideshow": {
     "slide_type": "subslide"
    }
   },
   "source": [
    "and\n",
    "<div align=\"center\"><img align=\"middle\" src=\"https://drive.google.com/uc?export=view&id=19sweAFVNdzJPX6ajf5bKUU5wTjfPfW4s\"></div>"
   ]
  },
  {
   "cell_type": "markdown",
   "metadata": {
    "slideshow": {
     "slide_type": "subslide"
    }
   },
   "source": [
    "## the root login screen\n",
    "\n",
    "if on the general login screen you entered an email address, you will go to the `root` login screen. you would use the password you entered when you *first created the account*.\n",
    "\n",
    "to switch login types `root --> iam`, click the \"sign in to a different account\" link at the bottom to go back to the *general log-in screen* (previous slide).\n",
    "\n",
    "to log in as `root`, proceed\n",
    "\n",
    "<div align=\"center\"><img align=\"middle\" src=\"https://drive.google.com/uc?export=view&id=1lU3wZitVnolW2N897zOMwaEIQCQPUZUN\"></div>"
   ]
  },
  {
   "cell_type": "markdown",
   "metadata": {
    "slideshow": {
     "slide_type": "subslide"
    }
   },
   "source": [
    "if you are logging in as `root`, after clicking the \"Sign In\" button, you will be taken to the MFA token authentication page:\n",
    "\n",
    "<div align=\"center\"><img align=\"middle\" src=\"https://drive.google.com/uc?export=view&id=1BzS7S77nifuHQbWtqmD8mG3_N44O12oD\"></div>"
   ]
  },
  {
   "cell_type": "markdown",
   "metadata": {
    "slideshow": {
     "slide_type": "subslide"
    }
   },
   "source": [
    "at this point you should open your MFA app (Google Authenticator or Authy) and enter the first 6-digit number that is produced *for the root account* (you should have MFA tokens for both `root` and your `iam` user.\n",
    "\n",
    "<div align=\"center\"><img align=\"middle\" src=\"https://drive.google.com/uc?export=view&id=1uzYyzP3a_Y1Jr6l2c-DpYpJzK5ryNKcA\" width=\"600\"></div>\n",
    "\n",
    "**1337 hax0r note: don't use these codes. they are old and won't work**"
   ]
  },
  {
   "cell_type": "markdown",
   "metadata": {
    "slideshow": {
     "slide_type": "subslide"
    }
   },
   "source": [
    "## the `iam` user login screen\n",
    "\n",
    "if you used your account id or alias instead of your email address, you would get the `iam` user login screen.\n",
    "\n",
    "to switch login types `iam --> root`, click the \"Sign-in using root account credentials\" link at the bottom to go directly to the root log in screen (previous slides).\n",
    "\n",
    "to log in as your `iam` user, proceed\n",
    "\n",
    "<div align=\"center\"><img align=\"middle\" src=\"https://drive.google.com/uc?export=view&id=12e8ntNU62ISsUPPZW-xTT1Dw0GjiEVQP\"></div>"
   ]
  },
  {
   "cell_type": "markdown",
   "metadata": {
    "slideshow": {
     "slide_type": "subslide"
    }
   },
   "source": [
    "in the first cell of this page, you need to enter your `aws` account id (a unique 12-digit number that you can find on your \"My Account\" page as either and `iam` user or `root`) or the alias you created above.\n",
    "\n",
    "the second and third are for your `iam` user name and the password you gave that `iam` user when you created it."
   ]
  },
  {
   "cell_type": "markdown",
   "metadata": {
    "slideshow": {
     "slide_type": "subslide"
    }
   },
   "source": [
    "after clicking the \"Sign In\" button, you will be taken to the MFA token authentication page:\n",
    "\n",
    "<div align=\"center\"><img align=\"middle\" src=\"https://drive.google.com/uc?export=view&id=1xLOZBMagqJ7i6nYm9mS-OXrDZ1nzjrEp\"></div>"
   ]
  },
  {
   "cell_type": "markdown",
   "metadata": {
    "slideshow": {
     "slide_type": "subslide"
    }
   },
   "source": [
    "do the same authentication dance\n",
    "\n",
    "<div align=\"center\"><img align=\"middle\" src=\"https://drive.google.com/uc?export=view&id=1uzYyzP3a_Y1Jr6l2c-DpYpJzK5ryNKcA\" width=\"600\"></div>"
   ]
  },
  {
   "cell_type": "markdown",
   "metadata": {
    "slideshow": {
     "slide_type": "slide"
    }
   },
   "source": [
    "# creating an ec2 instance"
   ]
  },
  {
   "cell_type": "markdown",
   "metadata": {
    "slideshow": {
     "slide_type": "subslide"
    }
   },
   "source": [
    "The aws service EC2 (elastic cloud compute) is the service you are *probably* thinking of when you think of \"cloud computing\". This service allows you to provision, configure, and launch individual servers for remote use.\n",
    "\n",
    "let's start by making one of our own!"
   ]
  },
  {
   "cell_type": "markdown",
   "metadata": {
    "slideshow": {
     "slide_type": "subslide"
    }
   },
   "source": [
    "**<div align=\"center\">creating an ec2 instance exercise</div>**\n",
    "**<div align=\"center\">https://console.aws.amazon.com/ec2/v2/home?region=us-east-1#Home:</div>**"
   ]
  },
  {
   "cell_type": "markdown",
   "metadata": {
    "slideshow": {
     "slide_type": "subslide"
    }
   },
   "source": [
    "## set your region\n",
    "\n",
    "aws is broken up into several geographically large \"regions\" which have faster network connectivity. Additionally, amazon can charge you extra for crossing regions -- good for them!\n",
    "\n",
    "as a result, it is often in your interest to keep all the services you use (which need to work together) in the same region.\n",
    "\n",
    "importantly, **you can only set the region of an EC2 instance at the beginning**. the process of cloning an existing server to another region is easy enough that this is not a major issue, but something to know."
   ]
  },
  {
   "cell_type": "markdown",
   "metadata": {
    "slideshow": {
     "slide_type": "subslide"
    }
   },
   "source": [
    "##### TO DO:\n",
    "\n",
    "make sure that the region is set to \"US East (N.Virginia)\"\n",
    "\n",
    "<div align=\"center\"><img align=\"middle\" src=\"https://drive.google.com/uc?export=view&id=1ZYFF2LmISdtDe60M8o6kdYvBu3YqKZnU\" width=\"600\"></div>"
   ]
  },
  {
   "cell_type": "markdown",
   "metadata": {
    "slideshow": {
     "slide_type": "subslide"
    }
   },
   "source": [
    "## start launching your instance\n",
    "\n",
    "##### TO DO:\n",
    "\n",
    "click on the \"launch instance\" button, or navigate (on the left menu) to \"instances > instances\" and launch from there"
   ]
  },
  {
   "cell_type": "markdown",
   "metadata": {
    "slideshow": {
     "slide_type": "subslide"
    }
   },
   "source": [
    "## choose an Amazon Machine Image (AMI)\n",
    "\n",
    "### what is an ami\n",
    "\n",
    "an ami is, essentially, the files you want installed on your computer right off the bat. This includes\n",
    "\n",
    "+ the OS\n",
    "    + note: the particular kernel is *not* included; that is managed by Amazon\n",
    "+ any pre-installed packages\n",
    "+ custom configurations\n",
    "+ data\n",
    "\n",
    "Generally you will use an ami that some one has already put together for you, but know that you could create your own AMI if you wanted to."
   ]
  },
  {
   "cell_type": "markdown",
   "metadata": {
    "slideshow": {
     "slide_type": "notes"
    }
   },
   "source": [
    "advanced: the ami is basically a compressed and chunked (in 10 MB blocks) set of files that act as the boot files of your instance. This affects the \"root device type\" option below: the RDT is basically just \"where\" these files live"
   ]
  },
  {
   "cell_type": "markdown",
   "metadata": {
    "slideshow": {
     "slide_type": "subslide"
    }
   },
   "source": [
    "### how to choose\n",
    "\n",
    "+ [free](https://aws.amazon.com/free/) vs. non-free\n",
    "    + note: linux and windows don’t count against each other\n",
    "+ aws-supported vs. not\n",
    "+ marketplace vs. non-marketplace\n",
    "    + effectively: officially supported vs. not\n",
    "    + example: search in AWS Marketplace for “NVIDIA Deep Learning AMI”\n",
    "+ pre-built vs. vanilla\n",
    "    + example: Amazon pre-built Deep Learning AMI vs. their Linux 2 AMIs\n",
    "+ other / advanced features\n",
    "    + things like [root device type](http://docs.aws.amazon.com/AWSEC2/latest/UserGuide/RootDeviceStorage.html) -- \"where\" the ami files live.\n",
    "    + as with most things: go with the default until you know you need something different. when you need it, you'll know!"
   ]
  },
  {
   "cell_type": "markdown",
   "metadata": {
    "slideshow": {
     "slide_type": "notes"
    }
   },
   "source": [
    "advanced topics:\n",
    "\n",
    "+ EBS: ami boot files live in ebs and your server treats them as networked mounts at all times\n",
    "+ instance: ami boot files live in s3 and the startup process copies them to your virtualized server's ephemeral storage prior to boot"
   ]
  },
  {
   "cell_type": "markdown",
   "metadata": {
    "slideshow": {
     "slide_type": "subslide"
    }
   },
   "source": [
    "### how to choose (cont.)\n",
    "\n",
    "+ [virtualization type](http://docs.aws.amazon.com/AWSEC2/latest/UserGuide/virtualization_types.html)\n",
    "    + options:\n",
    "        + HVM (hardware virtual machine)\n",
    "        + PV (paravirtual)\n",
    "        + PV on HVM\n",
    "    + this is an advanced topic -- you will almost always use HVM\n",
    "\n",
    "##### TO DO:\n",
    "\n",
    "+ click the \"Free tier only\" box\n",
    "+ select the \"Ubuntu Server 18.04 LTS (HVM), SSD Volume Type\" 64-bit x86 AMI\n",
    "    + currently the 5th row"
   ]
  },
  {
   "cell_type": "markdown",
   "metadata": {
    "slideshow": {
     "slide_type": "notes"
    }
   },
   "source": [
    "advanced topics:\n",
    "\n",
    "+ hvm: hardware virtual machine, the hardware itself is virtualized (e.g. a virtual process stands in place of actual communication with a physical CPU)\n",
    "+ paravirtual: the hardware is real but the processes / software are able to scale with virtual resources. separate environments (jails?) are created in memory and operations occur as if they are the only processes accessing that (possibly shared) physical resource"
   ]
  },
  {
   "cell_type": "markdown",
   "metadata": {
    "slideshow": {
     "slide_type": "subslide"
    }
   },
   "source": [
    "## choose an instance type\n",
    "\n",
    "let's focus on the main concerns (other options are important but advanced)\n",
    "\n",
    "+ number of cores (vCPUs)\n",
    "    + check out ECUs, a cross-processor normalized measurement of capability\n",
    "    + also “physical processor”, “clock speed”\n",
    "    + also “processor architecture”\n",
    "+ memory\n",
    "+ hardware (e.g. gpus)\n",
    "+ storage type\n",
    "+ storage size"
   ]
  },
  {
   "cell_type": "markdown",
   "metadata": {
    "slideshow": {
     "slide_type": "subslide"
    }
   },
   "source": [
    "##### TO DO:\n",
    "\n",
    "+ select t2.micro\n",
    "+ hit the **\"next: configure instance details\"** button -- **not** the \"review and launch\" button"
   ]
  },
  {
   "cell_type": "markdown",
   "metadata": {
    "slideshow": {
     "slide_type": "subslide"
    }
   },
   "source": [
    "## configure instance details\n",
    "\n",
    "there is a lot to unpack on this page\n",
    "\n",
    "+ [spot pricing](https://docs.aws.amazon.com/AWSEC2/latest/UserGuide/using-spot-instances.html?icmpid=docs_ec2_console) (can’t be changed after this, I don’t think!)\n",
    "    + spot pricing is pretty great if it suits your needs (and it probably does)\n",
    "+ VPC (for organizational networking purposes)\n",
    "+ IAM role (deep dive later)\n",
    "    + \"instances\" (i.e. this server) are members of roles, inheriting the permissions of the roles\n",
    "+ Shutdown behavior\n",
    "    + \"power button\" vs \"in the dumpster\""
   ]
  },
  {
   "cell_type": "markdown",
   "metadata": {
    "slideshow": {
     "slide_type": "subslide"
    }
   },
   "source": [
    "##### TO DO:\n",
    "\n",
    "+ if there is no vpc value, create a new one (use all default parameters)\n",
    "+ make sure the shutdown behavior is 'stop'\n",
    "+ check the \"enable termination protection\" checkbox\n",
    "+ everything else: leave as is"
   ]
  },
  {
   "cell_type": "markdown",
   "metadata": {
    "slideshow": {
     "slide_type": "subslide"
    }
   },
   "source": [
    "## add storage\n",
    "\n",
    "#### size\n",
    "\n",
    "just a quick note: on the free tier, you can go up to 30 GiB per month *shared across all instances*. The default size of ec2 free tier instances is 8 GiB, but you can crank that up to 30 if you want. I'll recommend at least 20 so we have room to do crazy stuff with our new test boxes if we want."
   ]
  },
  {
   "cell_type": "markdown",
   "metadata": {
    "slideshow": {
     "slide_type": "subslide"
    }
   },
   "source": [
    "#### volume type\n",
    "\n",
    "there are two categories and four types of storage volumes that aws supports at this time:\n",
    "\n",
    "1. ssd: solid-state drives\n",
    "    1. gp2: general purpose, **recommended default**\n",
    "    2. io1: provisioned iops\n",
    "2. hdd: hard disk drives\n",
    "    1. st1: throughput optimized\n",
    "    2. sc1: cold\n",
    "    3. standard: magnetic (previous generation)\n",
    "\n",
    "details can be found [here](https://docs.aws.amazon.com/AWSEC2/latest/UserGuide/EBSVolumeTypes.html?icmpid=docs_ec2_console). `gp2` is the recommended default. The SSD types are for many quick transactions (iops), and HDD types are for streaming big data."
   ]
  },
  {
   "cell_type": "markdown",
   "metadata": {
    "slideshow": {
     "slide_type": "subslide"
    }
   },
   "source": [
    "##### TO DO:\n",
    "\n",
    "+ update the Size to 20 or 30\n",
    "+ click \"Next: Add Tags\""
   ]
  },
  {
   "cell_type": "markdown",
   "metadata": {
    "slideshow": {
     "slide_type": "subslide"
    }
   },
   "source": [
    "## add tags\n",
    "\n",
    "Tags are key-value pairs used to identify properties of a service. They are never necessary, but can be very useful for organizing many moving parts within a larger cloud-based ecosystem.\n",
    "\n",
    "For example, at ERI we have multiple offices and each is working on multiple projects. we utilize the same company-wide account, but separating out costs is important. Tags let us tag on the office or project level and billing can be split up by tags.\n",
    "\n",
    "I recommend being liberal with tagging. I'm tagging everything I create in this class with `gu511: gu511` (note: key and value can be the same)"
   ]
  },
  {
   "cell_type": "markdown",
   "metadata": {
    "slideshow": {
     "slide_type": "subslide"
    }
   },
   "source": [
    "## configure security group\n",
    "\n",
    "this is one of the most useful configuration options to understand. generally speaking, aws operates on a [principle of least privilege](https://en.wikipedia.org/wiki/Principle_of_least_privilege) model. This means that everything you configure -- servers, services, users -- will generally need to be granted permissions in order to do anything.\n",
    "\n",
    "This is great because it is highly secure; it's also pretty annoying."
   ]
  },
  {
   "cell_type": "markdown",
   "metadata": {
    "slideshow": {
     "slide_type": "subslide"
    }
   },
   "source": [
    "the security group is the configuration that determines how internet traffic can access your instance. It is a collection of access rules made up of the following:\n",
    "\n",
    "+ type: this is mostly names of a set of default options\n",
    "    + click through the options to see how those default values change\n",
    "+ protocol: this is the language and structure (\"protocol\") in which we assume inbound traffic will come\n",
    "+ port range: on which port our server will listen for this sort of traffic\n",
    "+ source: from where we will allow this traffic to come"
   ]
  },
  {
   "cell_type": "markdown",
   "metadata": {
    "slideshow": {
     "slide_type": "subslide"
    }
   },
   "source": [
    "### network port diversion\n",
    "\n",
    "You saw a few familiar names (e.g. `ssh`, `http`, `mysql`) in the type section above. each corresponded to a protocol (usually TCP) and a port number. A [port](https://en.wikipedia.org/wiki/List_of_TCP_and_UDP_port_numbers#Well-known_ports) is a computer networking construct which identifies the final destination of a transmission -- using the postal mail analogy, if the IP address is the \"street address\" of your computer, the port acts as the apartment number.\n",
    "\n",
    "There are many [assigned ports](https://en.wikipedia.org/wiki/List_of_TCP_and_UDP_port_numbers#Well-known_ports) beyond the ones aws treats as defaults. Take a look at that list for things you've seen before.\n",
    "\n",
    "is anyone in this class old enough to remember kazaa? this will not be on the exam."
   ]
  },
  {
   "cell_type": "markdown",
   "metadata": {
    "slideshow": {
     "slide_type": "subslide"
    }
   },
   "source": [
    "some of the most common ports:\n",
    "\n",
    "\n",
    "| service        | port number      |\n",
    "|----------------|------------------|\n",
    "| ftp            | 20, 21           |\n",
    "| ssh            | 22               |\n",
    "| http           | 80               |\n",
    "| https          | 443              |\n",
    "| local web apps | 8000, 8080, 8888 |\n",
    "| mysql          | 3306             |\n",
    "| postgres       | 5432             |\n",
    "| neo4j          | 7474             |"
   ]
  },
  {
   "cell_type": "markdown",
   "metadata": {
    "slideshow": {
     "slide_type": "subslide"
    }
   },
   "source": [
    "*if* you want to follow some best practices (PoLP, e.g.), you could find out your own IP address and limit all access to only that address.\n",
    "\n",
    "**note**: you'll have to do this for every ip address you use. This means your home network, your work network, the coffee shop wifi, the GU wifi, your home network in a month or two if comcast cycles it... you get the picture.\n",
    "\n",
    "security is a full time job -- don't take that for granted the next time you're talking to your SysAd!"
   ]
  },
  {
   "cell_type": "markdown",
   "metadata": {
    "slideshow": {
     "slide_type": "subslide"
    }
   },
   "source": [
    "##### TO DO:\n",
    "\n",
    "+ select / leave `SSH` as type\n",
    "+ under Source, select `Anywhere` from the dropdown\n",
    "+ click \"Review and Launch\""
   ]
  },
  {
   "cell_type": "markdown",
   "metadata": {
    "slideshow": {
     "slide_type": "subslide"
    }
   },
   "source": [
    "## review\n",
    "\n",
    "this page has a summary of what we just did; feel free to read it if you'd like!\n",
    "\n",
    "when you click `Launch`, you will generate the ssh key pair for your instance\n",
    "\n",
    "**save these files somewhere you remember!!!**\n",
    "\n",
    "there is no way to change that key-pair after launch, and no way to get them back. you *have* to start over and delete this virtual machine.\n",
    "\n",
    "we will go through a long discussion about what those key pairs are for later, but for now, just know they are precious."
   ]
  },
  {
   "cell_type": "markdown",
   "metadata": {
    "slideshow": {
     "slide_type": "subslide"
    }
   },
   "source": [
    "## L A U N C H ! ! !\n",
    "\n",
    "\n",
    "**<br><div align=\"center\">PAUSE FOR ZOOM QUESTION BREAK</div>**"
   ]
  },
  {
   "cell_type": "markdown",
   "metadata": {
    "slideshow": {
     "slide_type": "subslide"
    }
   },
   "source": [
    "# your new `ec2` and you"
   ]
  },
  {
   "cell_type": "markdown",
   "metadata": {
    "slideshow": {
     "slide_type": "subslide"
    }
   },
   "source": [
    "## ec2 dashboard\n",
    "\n",
    "Now that we have a running instance, let's take a quick tour of the most important parts of the ec2 dashboard."
   ]
  },
  {
   "cell_type": "markdown",
   "metadata": {
    "slideshow": {
     "slide_type": "subslide"
    }
   },
   "source": [
    "##### instances\n",
    "\n",
    "https://console.aws.amazon.com/ec2/v2/home?region=us-east-1#Instances:\n",
    "\n",
    "+ top panel: description table\n",
    "    + summary configuration information for each ec2 instance\n",
    "    + **click on your instance's line in the table**\n",
    "    + Instance states: **right click on your instance's line in the table**\n",
    "        + start, stop, reboot, terminate\n",
    "    + DNS, IP, and elastic IPs\n",
    "        + [Quick diversion into DNS](https://howdns.works/)\n",
    "        + your running instance IP's address is *not persistent*. when you restart, it may keep that IP, but it might not. if you shut down it almost certainly will not.\n",
    "        + Elastic ips: up to 5, and they are free-ish -- use 'em or pay!\n",
    "        + From [amazon](http://docs.aws.amazon.com/AWSEC2/latest/UserGuide/elastic-ip-addresses-eip.html#using-instance-addressing-limit): “We strongly encourage you to use an Elastic IP address primarily for the ability to remap the address to another instance in the case of instance failure, and to use DNS hostnames for all other inter-node communication.”"
   ]
  },
  {
   "cell_type": "markdown",
   "metadata": {
    "slideshow": {
     "slide_type": "subslide"
    }
   },
   "source": [
    "##### instances (cont.)\n",
    "\n",
    "+ bottom panel: instance-specific configuration\n",
    "    + description: configuration and relationship information -- useful for links to attached or related services\n",
    "        + in particular: click through to security group, or \"view inbound rules\""
   ]
  },
  {
   "cell_type": "markdown",
   "metadata": {
    "slideshow": {
     "slide_type": "subslide"
    }
   },
   "source": [
    "##### Elastic Block Share (EBS)\n",
    "\n",
    "+ volumes\n",
    "    + the physical storage used by your ec2 instances\n",
    "    + right-click to change size (relatively new feature, and awesome!)\n",
    "    + snapshot here is not related to the next section -- it's the snapshot that the volume was created from (remember discussion from AMI section)\n",
    "+ snapshots\n",
    "    + \"backups\" -- frozen copies of your physical storage"
   ]
  },
  {
   "cell_type": "markdown",
   "metadata": {
    "slideshow": {
     "slide_type": "subslide"
    }
   },
   "source": [
    "##### network and security\n",
    "\n",
    "+ security groups\n",
    "    + one of the most important sections to understand and use\n",
    "    + controls network traffic in and out of your instances (and other services)\n",
    "    + inbound vs. outbound\n",
    "        + outbound defaults to \"anything, anywhere\"\n",
    "        + inbound defaults to just ssh for linux and just rdp (remote desktop protocol) for windows\n",
    "+ elastic IPs\n",
    "    + annoyed that your IP address changes every time you restart?\n",
    "    + want to stop updating your putty configuration or ssh `config` file?\n",
    "    + get an elastic IP! it's the same each time\n",
    "    + note: this means a static public DNS as well\n",
    "    + up to 5\n",
    "    + free while in use"
   ]
  }
 ],
 "metadata": {
  "celltoolbar": "Slideshow",
  "kernelspec": {
   "display_name": "Python 3",
   "language": "python",
   "name": "python3"
  },
  "language_info": {
   "codemirror_mode": {
    "name": "ipython",
    "version": 3
   },
   "file_extension": ".py",
   "mimetype": "text/x-python",
   "name": "python",
   "nbconvert_exporter": "python",
   "pygments_lexer": "ipython3",
   "version": "3.7.3"
  },
  "toc": {
   "base_numbering": 1,
   "nav_menu": {},
   "number_sections": true,
   "sideBar": true,
   "skip_h1_title": false,
   "title_cell": "Table of Contents",
   "title_sidebar": "Contents",
   "toc_cell": false,
   "toc_position": {},
   "toc_section_display": true,
   "toc_window_display": false
  }
 },
 "nbformat": 4,
 "nbformat_minor": 2
}