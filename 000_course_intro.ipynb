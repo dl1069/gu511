{
 "cells": [
  {
   "cell_type": "markdown",
   "metadata": {
    "slideshow": {
     "slide_type": "skip"
    }
   },
   "source": [
    "[![Open In Colab](https://colab.research.google.com/assets/colab-badge.svg)](https://colab.research.google.com/github/rzl-ds/gu511/blob/master/000_course_intro.ipynb)"
   ]
  },
  {
   "cell_type": "markdown",
   "metadata": {
    "slideshow": {
     "slide_type": "slide"
    }
   },
   "source": [
    "# Math 511: Advanced Math & Stat Computing\n",
    "\n",
    "## welcome!\n",
    "\n",
    "lecture notes: https://www.github.com/rzl-ds/gu511"
   ]
  },
  {
   "cell_type": "markdown",
   "metadata": {
    "slideshow": {
     "slide_type": "subslide"
    }
   },
   "source": [
    "## lecture format\n",
    "\n",
    "this course covers a lot of tools and techniques, and the lectures are a mix of exposition, walkthroughs, and (especially) exercises and labs.\n",
    "\n",
    "during these break-out sessions, it is inevitable (and expected!) that you will run into bugs and strange new issues. pre-pandemic, when students did these exercises in real time, I was there to help troubleshoot -- but only one person at a time, and only as many as I could help before we had to table that help to keep the lecture moving. remote learning opens up a great new opportunity here:"
   ]
  },
  {
   "cell_type": "markdown",
   "metadata": {
    "slideshow": {
     "slide_type": "subslide"
    }
   },
   "source": [
    "> with **asynchronous** lectures and **synchronous** debugging, troubleshooting, and Q&A, we can be much more flexible about the time that I and each of you gets to work through your individual labs and exercises.\n",
    ">\n",
    "> when the material is familiar with you and all is easy, you can move at your own pace. when you're experiencing it for the first time, you can spend as much time as you want on it. and when you get stuck, I can help you 1-1 until we've figured out your issue -- not just for 5 - 10 minutes"
   ]
  },
  {
   "cell_type": "markdown",
   "metadata": {
    "slideshow": {
     "slide_type": "subslide"
    }
   },
   "source": [
    "## weekly schedule\n",
    "\n",
    "+ **course lecture materials** will be delivered *asynchronously*\n",
    "    + videos will be made available on Thursday before the scheduled class start time (6:30 PM) (links posted as [canvas](http://canvas.georgetown.edu/) announcements)\n",
    "+ **virtual office hours** will be held\n",
    "    + Thursdays 6:30 - 9:00 PM (i.e. the scheduled class time)\n",
    "        + priority: people troubleshooting that weeks' course labs and exercises, or general lecture questions\n",
    "        + with your permission, if there are particularly useful questions and answers I will record those and post them for other students\n",
    "    + Thursdays, 5:30 - 6:30 PM (i.e. just before class time)\n",
    "        + priority: homework questions"
   ]
  },
  {
   "cell_type": "markdown",
   "metadata": {
    "slideshow": {
     "slide_type": "subslide"
    }
   },
   "source": [
    "## lecture material\n",
    "\n",
    "all lectures are made in `jupyter notebook` format and hosted on `github`:\n",
    "\n",
    "https://github.com/rzl-ds/gu511"
   ]
  },
  {
   "cell_type": "markdown",
   "metadata": {
    "slideshow": {
     "slide_type": "subslide"
    }
   },
   "source": [
    "recommended books are *supplementary* and not required (sorry!!)\n",
    "\n",
    "<img align=\"center\" src=\"https://i.pinimg.com/736x/4c/05/d4/4c05d472eda06bfc1b599a82f620c86d--professor-college-life.jpg\" width=\"300\">"
   ]
  },
  {
   "cell_type": "markdown",
   "metadata": {
    "slideshow": {
     "slide_type": "subslide"
    }
   },
   "source": [
    "## lecture lab work\n",
    "\n",
    "+ every week we will have hands-on in-class lab work\n",
    "+ operating systems does not matter! Although we will be doing most of our work in the linux environment, we will be emphasizing *operating system flexibility*"
   ]
  },
  {
   "cell_type": "markdown",
   "metadata": {
    "slideshow": {
     "slide_type": "subslide"
    }
   },
   "source": [
    "## homework\n",
    "\n",
    "+ **weekly** homeworks\n",
    "+ will be *released* sometime between the end of class on Thursday and Friday EOD\n",
    "    + this will be announced via [canvas](http://canvas.georgetown.edu/) (you will get an email)\n",
    "    + homeworks will be released as stand-alone `jupyter notebook` files on github here: https://github.com/rzl-ds/gu511_hw\n",
    "+ will be *due* by the following Friday EOD\n",
    "    + late homeworks will receive a 10% deduction for each day beyond the due date"
   ]
  },
  {
   "cell_type": "markdown",
   "metadata": {
    "slideshow": {
     "slide_type": "subslide"
    }
   },
   "source": [
    "+ for homeworks, we are looking to utilize some real-world tasks, specifically learning how to deliver things in certain packages:\n",
    "    + scheduled emails\n",
    "    + as github repos or pull requests\n",
    "    + as shared jupyter notebooks, markdown documents, or webpages\n",
    "    + updating entries in shared databases\n",
    "    + writing files to shared data lakes"
   ]
  },
  {
   "cell_type": "markdown",
   "metadata": {
    "slideshow": {
     "slide_type": "subslide"
    }
   },
   "source": [
    "## exams\n",
    "\n",
    "+ \"exams\" will be take-home, and on the honor system\n",
    "+ they will effectively be longer, more wide-ranging homework assignments\n",
    "+ one midterm exam (posted either Oct 1st or Oct 8th, depending on our rate of progress)\n",
    "+ one final (on or after Dec 11th, date tbd)"
   ]
  },
  {
   "cell_type": "markdown",
   "metadata": {
    "slideshow": {
     "slide_type": "subslide"
    }
   },
   "source": [
    "## grading policy\n",
    "\n",
    "+ the final grade will be a weighted average of the homework, exam 1, and exam 2, with weights 50, 25, and 25 (resp)\n",
    "+ I will grade the final results on a curve\n",
    "+ in general, this course is not about getting the right answer -- it's about doing stuff. if you put in the time and do all the stuff, you will get a good grade"
   ]
  },
  {
   "cell_type": "markdown",
   "metadata": {
    "slideshow": {
     "slide_type": "subslide"
    }
   },
   "source": [
    "## topics\n",
    "\n",
    "the [existing lectures](https://github.com/rzl-ds/gu511) represent *last year's* course topics. I want this class to evolve with students' interests and also technology.\n",
    "\n",
    "your first assignment will include filling out a topic interest survey."
   ]
  },
  {
   "cell_type": "markdown",
   "metadata": {
    "slideshow": {
     "slide_type": "slide"
    }
   },
   "source": [
    "# course goal\n",
    "\n",
    "I want to help you learn about the tools I use on a daily or weekly basis to perform data science in the real world. Most of these tools exist in the linux environment, and are increasingly accessed in virtualized setttings (*i.e.* \"in the cloud\").\n",
    "\n",
    "I don't expect to make you all *masters* at these tools, but I do hope to give you all familiarity with them, and at the very least I hope to let you know which words to pay attention to when the jargon starts raining down."
   ]
  },
  {
   "cell_type": "markdown",
   "source": [
    "there is almost certainly a wide range of existing skills and familiarity in this class and **I am targetting this course at people with limited experience**\n",
    "\n",
    "if you are looking for a challenge beyond what's presented, or want us to cover a new or more advanced topic, please contact me offline and we'll try to figure something out"
   ],
   "metadata": {
    "collapsed": false
   }
  },
  {
   "cell_type": "markdown",
   "metadata": {
    "slideshow": {
     "slide_type": "subslide"
    }
   },
   "source": [
    "# feedback welcome\n",
    "\n",
    "at this point I am newer to education in the pandemic than all of you are. let me know if there is any way I can be of help or things that you think could be done differently and better."
   ]
  },
  {
   "cell_type": "markdown",
   "metadata": {
    "slideshow": {
     "slide_type": "slide"
    }
   },
   "source": [
    "# feedback welcome\n",
    "\n",
    "at this point I am newer to education in the pandemic than all of you are. let me know if there is any way I can be of help or things that you think could be done differently and better."
   ]
  },
  {
   "cell_type": "markdown",
   "metadata": {
    "slideshow": {
     "slide_type": "slide"
    }
   },
   "source": [
    "here I used to ask...\n",
    "\n",
    "<div align=\"center\"><h1>what are your questions?</h1></div>\n",
    "\n",
    "but now I'll say:\n",
    "\n",
    "<div align=\"center\"><h1>pause and zoom your questions!</h1></div>"
   ]
  }
 ],
 "metadata": {
  "celltoolbar": "Slideshow",
  "kernelspec": {
   "display_name": "Python 3",
   "language": "python",
   "name": "python3"
  },
  "language_info": {
   "codemirror_mode": {
    "name": "ipython",
    "version": 3
   },
   "file_extension": ".py",
   "mimetype": "text/x-python",
   "name": "python",
   "nbconvert_exporter": "python",
   "pygments_lexer": "ipython3",
   "version": "3.7.3"
  },
  "toc": {
   "base_numbering": 1,
   "nav_menu": {},
   "number_sections": true,
   "sideBar": true,
   "skip_h1_title": false,
   "title_cell": "Table of Contents",
   "title_sidebar": "Contents",
   "toc_cell": false,
   "toc_position": {},
   "toc_section_display": true,
   "toc_window_display": false
  }
 },
 "nbformat": 4,
 "nbformat_minor": 2
}