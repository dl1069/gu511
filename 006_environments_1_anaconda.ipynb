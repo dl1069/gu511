{
 "cells": [
  {
   "cell_type": "markdown",
   "metadata": {
    "slideshow": {
     "slide_type": "skip"
    }
   },
   "source": [
    "<a href=\"https://colab.research.google.com/github/rzl-ds/gu511/blob/master/006_environments_1_anaconda.ipynb\" target=\"_parent\">\n",
    "    <img src=\"https://colab.research.google.com/assets/colab-badge.svg\"/>\n",
    "</a>"
   ]
  },
  {
   "cell_type": "markdown",
   "metadata": {
    "slideshow": {
     "slide_type": "slide"
    }
   },
   "source": [
    "# environment management: `anaconda`"
   ]
  },
  {
   "cell_type": "markdown",
   "metadata": {
    "slideshow": {
     "slide_type": "subslide"
    }
   },
   "source": [
    "## wait, what class is this?\n",
    "\n",
    "why are we talking about environments?\n",
    "\n",
    "<br><div align=\"center\"><img src=\"https://news-media.stanford.edu/wp-content/uploads/2016/11/10165436/environment_GettyImages-501231894.jpg\" width=\"800px\"></div>"
   ]
  },
  {
   "cell_type": "markdown",
   "metadata": {
    "slideshow": {
     "slide_type": "subslide"
    }
   },
   "source": [
    "in the computer science world, the phrase \"environment\" is often thrown around with slightly ambiguous meaning. in the broadest sense, it can be the \"computing\" environment or the \"operating\" environment -- the combination of hardware and software that a user interacts with; the whole enchilada.\n",
    "\n",
    "in discussions about specific applications and for certain programming languages, it can be filtered down to the \"runtime\" environment -- the relevant aspects of the hardware (from that application's point of view) and the codebase which defines that application or language"
   ]
  },
  {
   "cell_type": "markdown",
   "metadata": {
    "slideshow": {
     "slide_type": "subslide"
    }
   },
   "source": [
    "generally speaking, when I talk about the **environment** I'm focusing on the software (literal files, on your computer's disk) that define how *something* behaves. for example..."
   ]
  },
  {
   "cell_type": "markdown",
   "metadata": {
    "slideshow": {
     "slide_type": "slide"
    }
   },
   "source": [
    "## your `python` environment"
   ]
  },
  {
   "cell_type": "markdown",
   "metadata": {
    "slideshow": {
     "slide_type": "subslide"
    }
   },
   "source": [
    "your `python` environment is the tools and packages available to you for use within the `python` programming language, and the way those tools and packags behave. this is completely determined by the literal files defining the `python` language on your computer"
   ]
  },
  {
   "cell_type": "markdown",
   "metadata": {
    "slideshow": {
     "slide_type": "subslide"
    }
   },
   "source": [
    "### current system `python` environments\n",
    "\n",
    "let's do a quick `python` version check:\n",
    "\n",
    "on your `ec2` instance, what `python` version do you have installed?\n",
    "\n",
    "```sh\n",
    "python --version\n",
    "```"
   ]
  },
  {
   "cell_type": "markdown",
   "metadata": {
    "slideshow": {
     "slide_type": "fragment"
    }
   },
   "source": [
    "```sh\n",
    "# grrrrr.......\n",
    "python3 --version\n",
    "```"
   ]
  },
  {
   "cell_type": "code",
   "execution_count": null,
   "metadata": {
    "slideshow": {
     "slide_type": "skip"
    }
   },
   "outputs": [],
   "source": [
    "%%bash\n",
    "python --version"
   ]
  },
  {
   "cell_type": "markdown",
   "metadata": {
    "slideshow": {
     "slide_type": "subslide"
    }
   },
   "source": [
    "different versions of `python` (and different versions of installed packages) correspond to different files defining the language's behavior and thus different levels of compatability. personally, I think knowing that these files exist is among the more important pieces of information in my `python` learning.\n",
    "\n",
    "***the way that the code you wrote behaves depends on these files***"
   ]
  },
  {
   "cell_type": "markdown",
   "metadata": {
    "slideshow": {
     "slide_type": "subslide"
    }
   },
   "source": [
    "recall that the `bash` command `which` will tell us the path of the executible that will actually be called when we type in a command\n",
    "\n",
    "```sh\n",
    "which python3\n",
    "```"
   ]
  },
  {
   "cell_type": "code",
   "execution_count": null,
   "metadata": {
    "slideshow": {
     "slide_type": "skip"
    }
   },
   "outputs": [],
   "source": [
    "%%bash\n",
    "which python3"
   ]
  },
  {
   "cell_type": "markdown",
   "metadata": {
    "slideshow": {
     "slide_type": "subslide"
    }
   },
   "source": [
    "your out-of-the-box `ec2` instances will likely return `/usr/bin/python3`. so when you type `python3` on the command line, you will actually call the executible file `/usr/bin/python3`.\n",
    "\n",
    "the same sort of thing is going on for individual `python` modules we import. Every module has a \"private\" member `__file__` which lists the path to the file used to define that module:"
   ]
  },
  {
   "cell_type": "code",
   "execution_count": null,
   "metadata": {},
   "outputs": [],
   "source": [
    "import os\n",
    "os.__file__"
   ]
  },
  {
   "cell_type": "markdown",
   "metadata": {
    "slideshow": {
     "slide_type": "subslide"
    }
   },
   "source": [
    "let's look at that file!\n",
    "\n",
    "```sh\n",
    "# for you, it is:\n",
    "less /usr/lib/python3.6/os.py\n",
    "\n",
    "#for me, right now, it'll be different -- hence the craziness below. sorry!\n",
    "```"
   ]
  },
  {
   "cell_type": "code",
   "execution_count": null,
   "metadata": {},
   "outputs": [],
   "source": [
    "%%bash\n",
    "OS_FILE=$(python -c \"import os; print(os.__file__)\")\n",
    "cat $OS_FILE"
   ]
  },
  {
   "cell_type": "markdown",
   "metadata": {
    "slideshow": {
     "slide_type": "subslide"
    }
   },
   "source": [
    "if you change that file, or your friend (who is running your code) doesn't have that same file, the code that uses `os` will be different.\n",
    "\n",
    "the same caveat goes for every file or environment variable used by your python process on any machine. this collection of files defines what is often called the \"`python` environment\", and it can be different on any system. `sudo apt install` could totally change it.\n",
    "\n",
    "yikes!"
   ]
  },
  {
   "cell_type": "markdown",
   "metadata": {
    "slideshow": {
     "slide_type": "subslide"
    }
   },
   "source": [
    "in the real world, the implication is immediate: if one of my programs only works for version 1.2, and another only works for version 2.1, and the `GOVERNMENT AGENCY NAME REDACTED` sysad just installed library 1.0 and *that* took two years, this  will probably be a problem.\n",
    "\n",
    "It would be nice if this problem was solved..."
   ]
  },
  {
   "cell_type": "markdown",
   "metadata": {
    "slideshow": {
     "slide_type": "subslide"
    }
   },
   "source": [
    "### virtual environments"
   ]
  },
  {
   "cell_type": "markdown",
   "metadata": {
    "slideshow": {
     "slide_type": "subslide"
    }
   },
   "source": [
    "\"virtual environments\" are ways of isolating out the contents (the files) of libraries you're installing.\n",
    "\n",
    "this is something you've actually probably (*kind of*) done in `R`, actually, without knowing it. if you've ever tried installing a package but didn't have admin rights, the `R` interpreter prompts you to see if there's some other place you'd like to install things (usually in your home directory).\n",
    "\n",
    "that is a system-level isolation of the files you want to install. When the interpreter is told to load a package, it looks first for your local copy to see if you have anything spicy, and then it checks for a global copy, and then it cries."
   ]
  },
  {
   "cell_type": "markdown",
   "metadata": {
    "slideshow": {
     "slide_type": "subslide"
    }
   },
   "source": [
    "so, generalize that idea: let's make *multiple* separate environments (collections of files defining how our `python` code behaves).\n",
    "\n",
    "we can generalize this beyond just \"global\" and \"user\" (as with `R`), even creating a separate environment for each process or code base."
   ]
  },
  {
   "cell_type": "markdown",
   "metadata": {
    "slideshow": {
     "slide_type": "subslide"
    }
   },
   "source": [
    "on a very basic level, all we're doing here is re-installing packages into a special sub-directory somewhere on the machine, and then telling `python` (through environment variables like the `PATH` variable) where to look to find them. \n",
    "\n",
    "we're tricking `python` into doing the right thing. and `python` is cool about it; once it realizes it's been tricked it's not even mad or anything, it knows it was all a bit of a goof and what's more, we all actually really had a great time and made some good memories."
   ]
  },
  {
   "cell_type": "markdown",
   "metadata": {
    "slideshow": {
     "slide_type": "subslide"
    }
   },
   "source": [
    "often times finished `python` projects will ship with a `requirements.txt` file, which lists each `python` package which should be installed and the exact version that it was tested against, and it is expected that it will be executed by a system with the same packages and versions. \n",
    "\n",
    "the \"virtual environment\" is an isolated set of packages that will meet that requirement.\n",
    "\n",
    "the original way of creating a virtual environment was the python utility `virtualenv`, which is awesome and worth checking out. That being said, however, it's not what I'll recommend."
   ]
  },
  {
   "cell_type": "markdown",
   "metadata": {
    "slideshow": {
     "slide_type": "subslide"
    }
   },
   "source": [
    "**<div align=\"center\">what are your quesitons so far?</div>**"
   ]
  },
  {
   "cell_type": "markdown",
   "metadata": {
    "slideshow": {
     "slide_type": "slide"
    }
   },
   "source": [
    "## generalizing virtual environments: `conda`"
   ]
  },
  {
   "cell_type": "markdown",
   "metadata": {
    "slideshow": {
     "slide_type": "subslide"
    }
   },
   "source": [
    "`conda`, short for `anaconda`, is a *distribution* of python. it takes the virtual environment concept above and adds a special wrinkle: while most virtual environment managers allow you to install different versions of `python` *packages*, `conda` allows you to install different versions of `python` *itself*.\n",
    "\n",
    "this should help you deal with any `python2` vs. `python3` problems you may experience."
   ]
  },
  {
   "cell_type": "markdown",
   "metadata": {
    "slideshow": {
     "slide_type": "subslide"
    }
   },
   "source": [
    "so, let's go ahead and install `conda`, create a virtual environment, and install something.\n",
    "\n",
    "*note: I would recommend you install `conda` on both your laptop and your `ec2` instance, but we will **require** you to install it on your `ec2` instance (it's part of the homework), so you may want to use that instance to do all of this right now*"
   ]
  },
  {
   "cell_type": "markdown",
   "metadata": {
    "slideshow": {
     "slide_type": "subslide"
    }
   },
   "source": [
    "#### installing `conda`\n",
    "\n",
    "`conda`, by default, comes with many of the most commonly downloaded `python` packages. This is great because it gives you a pretty solid working base without any modification, *BUT* given our time and bandwidth limits, I'm going to recommend you install the `miniconda` version (the bare bones) and install packages *as needed* instead of up front.\n",
    "\n",
    "+ [`conda`](https://www.continuum.io/downloads): a big installation, which will take a few minutes, and pre-installs several of the \"must haves\" (many of the above, and maybe more)\n",
    "+ [`miniconda`](https://conda.io/miniconda.html): a bare-bones implementation of the above for the *discerning* gentleprogrammer\n",
    "\n",
    "click on that `miniconda` link (https://conda.io/miniconda.html)"
   ]
  },
  {
   "cell_type": "code",
   "execution_count": null,
   "metadata": {},
   "outputs": [],
   "source": [
    "https://repo.anaconda.com/miniconda/Miniconda3-latest-Linux-x86_64.sh"
   ]
  },
  {
   "cell_type": "markdown",
   "metadata": {
    "slideshow": {
     "slide_type": "subslide"
    }
   },
   "source": [
    "**<div align=\"center\">mini exercise: everyone installs `conda`</div>**\n",
    "\n",
    "```sh\n",
    "cd ~\n",
    "wget https://repo.anaconda.com/miniconda/Miniconda3-latest-Linux-x86_64.sh\n",
    "bash Miniconda3-latest-Linux-x86_64.sh\n",
    "\n",
    "# when prompted, we do the following:\n",
    "# press ENTER to read the license\n",
    "#     press `d` to scroll *d*own\n",
    "# yes: approve the license\n",
    "# ENTER: we are okay with this location\n",
    "# yes: run conda init so that your PATH *always* includes conda\n",
    "```\n",
    "\n",
    "then log out and back in and run\n",
    "\n",
    "```sh\n",
    "rm ~/Miniconda3-latest-Linux-x86_64.sh\n",
    "conda update conda\n",
    "```"
   ]
  },
  {
   "cell_type": "markdown",
   "metadata": {
    "slideshow": {
     "slide_type": "notes"
    }
   },
   "source": [
    "note: the download link for the miniconda bash script *could change*! update it by actually going to [the miniconda website](https://conda.io/miniconda.html)\n",
    "\n",
    "+ go to [the miniconda website](https://conda.io/miniconda.html) to get the bash script name\n",
    "    + we are looking at the 64-bit linux installer\n",
    "+ download that bash script to your `ec2` server and run it\n",
    "\n",
    "```sh\n",
    "cd ~\n",
    "wget https://repo.continuum.io/miniconda/Miniconda3-latest-Linux-x86_64.sh\n",
    "bash Miniconda3-latest-Linux-x86_64.sh\n",
    "\n",
    "# when prompted, we do the following:\n",
    "# press ENTER to read the license\n",
    "#     press `d` to scroll *d*own\n",
    "# yes: approve the license\n",
    "# ENTER: we are okay with this location\n",
    "# yes: allow your path to be updated to *always* include conda\n",
    "\n",
    "conda update conda\n",
    "```"
   ]
  },
  {
   "cell_type": "markdown",
   "metadata": {
    "slideshow": {
     "slide_type": "subslide"
    }
   },
   "source": [
    "recall that we previously called\n",
    "\n",
    "```sh\n",
    "which python3\n",
    "```\n",
    "\n",
    "and got `/usr/bin/python3`, and we also checked the file path to the `os` package (from within a `python` shell):\n",
    "\n",
    "```python\n",
    "import os\n",
    "os.__file__\n",
    "```\n",
    "\n",
    "what do we get now, after installing `conda`?"
   ]
  },
  {
   "cell_type": "markdown",
   "metadata": {
    "slideshow": {
     "slide_type": "subslide"
    }
   },
   "source": [
    "*everything* the `conda` command creates or installs is put into one and only one directory. \"uninstalling\" `conda` is equivalent to simply deleting that directory."
   ]
  },
  {
   "cell_type": "markdown",
   "metadata": {
    "slideshow": {
     "slide_type": "subslide"
    }
   },
   "source": [
    "take a step back and think about the **python environments** you have now:\n",
    "\n",
    "1. our vanilla `ubuntu` `python` installation (came with the `ec2` instance)\n",
    "1. this new `anaconda`-created environment\n",
    "    + this environment is called the `anaconda` `base` environment\n",
    "    \n",
    "try the command\n",
    "\n",
    "```sh\n",
    "conda env list\n",
    "```"
   ]
  },
  {
   "cell_type": "markdown",
   "metadata": {
    "slideshow": {
     "slide_type": "subslide"
    }
   },
   "source": [
    "why stop at only two environments?\n",
    "\n",
    "we can use the `conda` command to *create* new environments as well. let's try that right now:\n",
    "\n",
    "```sh\n",
    "conda create -n l33tmode python=3\n",
    "```\n",
    "\n",
    "this will use `conda` to create a new environment named \"`l33tmode`\" with `python` version 3 installed."
   ]
  },
  {
   "cell_type": "markdown",
   "metadata": {
    "slideshow": {
     "slide_type": "subslide"
    }
   },
   "source": [
    "`conda create` creats a new environment inside of new folder under the `env` sub-directory in that main `conda` directory, and installing all of our required packages there. "
   ]
  },
  {
   "cell_type": "markdown",
   "metadata": {
    "slideshow": {
     "slide_type": "subslide"
    }
   },
   "source": [
    "as the little dialog will state after you create the environemnt, you have to \"activate\" that environment if you want to use it. You have to do this any time you want to use a virtual environment.\n",
    "\n",
    "what we're *actually* doing here is updating the `PATH` environment variable to \"point\" `python` to our newly created set of files. Now, when we wish to use `python`, we will be using our specialized, isolated versions"
   ]
  },
  {
   "cell_type": "markdown",
   "metadata": {
    "slideshow": {
     "slide_type": "subslide"
    }
   },
   "source": [
    "So let's do that:\n",
    "\n",
    "```sh\n",
    "conda activate l33tmode\n",
    "```\n",
    "\n",
    "This should have made our terminal prompt 10 times l33t3r. To verify that we're now looking at different files:\n",
    "\n",
    "```sh\n",
    "which python3\n",
    "```"
   ]
  },
  {
   "cell_type": "markdown",
   "metadata": {
    "slideshow": {
     "slide_type": "subslide"
    }
   },
   "source": [
    "and now, let's install something fun:\n",
    "\n",
    "```sh\n",
    "conda install ipython pandas\n",
    "```"
   ]
  },
  {
   "cell_type": "markdown",
   "metadata": {
    "slideshow": {
     "slide_type": "subslide"
    }
   },
   "source": [
    "and then try it out\n",
    "\n",
    "```sh\n",
    "ipython\n",
    "```\n",
    "\n",
    "this should open a fancier python interpreter (`ipython`). inside, run\n",
    "\n",
    "```python\n",
    "import pandas as pd\n",
    "\n",
    "pd.__version__\n",
    "```"
   ]
  },
  {
   "cell_type": "markdown",
   "metadata": {
    "slideshow": {
     "slide_type": "slide"
    }
   },
   "source": [
    "## freezing and sharing environments\n",
    "\n",
    "one of the purposes of working with a `python` environment manager like `conda` was to enable us to install whatever we want, but the *reason* we wanted to be able to do that was so that we could make sure that no matter what computer we run our code on we have the same behavior"
   ]
  },
  {
   "cell_type": "markdown",
   "metadata": {
    "slideshow": {
     "slide_type": "subslide"
    }
   },
   "source": [
    "if we want to do that, we need to be able to\n",
    "\n",
    "+ **specify** what our environment is when our code is working, and\n",
    "+ **recreate** that environment in other places\n",
    "\n",
    "`conda` can help us do both of these things easily"
   ]
  },
  {
   "cell_type": "markdown",
   "metadata": {
    "slideshow": {
     "slide_type": "subslide"
    }
   },
   "source": [
    "### specify and recreate with `conda env export`\n",
    "\n",
    "there are two ways to specify the contents of a `conda` environment. first, we can do it in a `conda`-specific way:\n",
    "\n",
    "```sh\n",
    "# create an environment yaml file\n",
    "conda env export > environment.yml\n",
    "\n",
    "# look at the contents\n",
    "cat environment.yml\n",
    "```"
   ]
  },
  {
   "cell_type": "markdown",
   "metadata": {
    "slideshow": {
     "slide_type": "subslide"
    }
   },
   "source": [
    "this `environment.yml` file can be sent to other users or re-used by you on future `ec2` instances to create a new but completely identical environment:\n",
    "\n",
    "```sh\n",
    "conda env create -f environment.yml\n",
    "```\n",
    "\n",
    "*note: this will depend on the OS, so you will need to make tweaks if you are sharing between e.g. linux and mac OS environments*"
   ]
  },
  {
   "cell_type": "markdown",
   "metadata": {
    "slideshow": {
     "slide_type": "subslide"
    }
   },
   "source": [
    "### specify and recreate with `conda list -e`\n",
    "\n",
    "a completely equivalent option for doing the above is to run\n",
    "\n",
    "```sh\n",
    "# create an environments txt file\n",
    "conda list -e > spec-file.txt\n",
    "\n",
    "# look at the contents\n",
    "cat spec-file.txt\n",
    "```"
   ]
  },
  {
   "cell_type": "markdown",
   "metadata": {
    "slideshow": {
     "slide_type": "subslide"
    }
   },
   "source": [
    "you can now create a new environment from this file with the command\n",
    "\n",
    "```sh\n",
    "conda create --name myenv --file spec-file.txt\n",
    "```\n",
    "\n",
    "*note: this will also depend on the OS*"
   ]
  },
  {
   "cell_type": "markdown",
   "metadata": {
    "slideshow": {
     "slide_type": "subslide"
    }
   },
   "source": [
    "the differences between these two are minor: basically,\n",
    "\n",
    "+ the `environment.yml` file hard-codes the name of the environment whereas the `spec-file.txt` doesn't\n",
    "+ the `environment.yml` file includes non-`conda` packages installed via `pip` and `conda` channel information, whereas the `spec-file.txt` doesn't (at least by default)\n",
    "\n",
    "beyond that, they're basically interchangeable"
   ]
  },
  {
   "cell_type": "markdown",
   "metadata": {
    "slideshow": {
     "slide_type": "subslide"
    }
   },
   "source": [
    "### specify and recreate with `pip freeze`\n",
    "\n",
    "the `environment.yml` file you create above can be read by `conda`, but not by other `python` virtual environment or package managers. there is a format for specifying packages to install that is much more broadly recognized in the `python` world -- a `requirements.txt` file. this is the sort of file you could use to install all packages using the basic `pip` package installer, for example.\n",
    "\n",
    "to create a `requirements.txt` file, you can simply execute\n",
    "\n",
    "```sh\n",
    "pip freeze > requirements.txt\n",
    "\n",
    "# look at the contents\n",
    "cat requirements.txt\n",
    "```"
   ]
  },
  {
   "cell_type": "markdown",
   "metadata": {
    "slideshow": {
     "slide_type": "subslide"
    }
   },
   "source": [
    "you can use this on any system which has `pip` installed to install the listed packages into the active environemnt with\n",
    "\n",
    "```sh\n",
    "pip install -r requirements.txt\n",
    "```"
   ]
  },
  {
   "cell_type": "markdown",
   "metadata": {
    "slideshow": {
     "slide_type": "slide"
    }
   },
   "source": [
    "<div align=\"center\"><img src=\"https://i.ytimg.com/vi/BX1EIlwtQvU/maxresdefault.jpg\" width=\"800px\"></div>\n",
    "\n",
    "# END OF LECTURE\n",
    "\n",
    "next lecture: [environment management pt. 2: `docker`](006_environments_2_docker.ipynb)"
   ]
  }
 ],
 "metadata": {
  "celltoolbar": "Slideshow",
  "kernelspec": {
   "display_name": "Python 3",
   "language": "python",
   "name": "python3"
  },
  "language_info": {
   "codemirror_mode": {
    "name": "ipython",
    "version": 3
   },
   "file_extension": ".py",
   "mimetype": "text/x-python",
   "name": "python",
   "nbconvert_exporter": "python",
   "pygments_lexer": "ipython3",
   "version": "3.7.3"
  },
  "toc": {
   "base_numbering": 1,
   "nav_menu": {},
   "number_sections": true,
   "sideBar": true,
   "skip_h1_title": false,
   "title_cell": "Table of Contents",
   "title_sidebar": "Contents",
   "toc_cell": false,
   "toc_position": {},
   "toc_section_display": true,
   "toc_window_display": false
  }
 },
 "nbformat": 4,
 "nbformat_minor": 2
}
